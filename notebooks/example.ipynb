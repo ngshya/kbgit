{
 "cells": [
  {
   "cell_type": "code",
   "execution_count": 1,
   "metadata": {},
   "outputs": [],
   "source": [
    "import os\n",
    "os.chdir('../')"
   ]
  },
  {
   "cell_type": "code",
   "execution_count": 2,
   "metadata": {},
   "outputs": [
    {
     "data": {
      "text/plain": [
       "True"
      ]
     },
     "execution_count": 2,
     "metadata": {},
     "output_type": "execute_result"
    }
   ],
   "source": [
    "from kbgit.kb.block import KBB\n",
    "from kbgit.kb.doc import KBD\n",
    "from dotenv import load_dotenv\n",
    "load_dotenv()"
   ]
  },
  {
   "cell_type": "markdown",
   "metadata": {},
   "source": [
    "## Simple examples with time aware commits and conflicts checks"
   ]
  },
  {
   "cell_type": "code",
   "execution_count": 3,
   "metadata": {},
   "outputs": [],
   "source": [
    "k1 = KBB(kbb_content=\"UC Berkeley is founded in 2222.\")\n",
    "k2 = KBB(kbb_content=\"The University of California, Berkeley (UC Berkeley) is a public land-grant research university in Berkeley, California.\")\n",
    "k3 = KBB(kbb_content=\"Berkeley has an enrollment of more than 45000 students.\")\n",
    "k4 = KBB(kbb_content=\"UC Berkeley is organized around fifteen schools of study on the same campus.\")\n",
    "k5 = KBB(kbb_content=\"The official university mascot is Oski the Bear, who debuted in 1941.\")\n",
    "\n",
    "k6 = k5.edit_content(\"UC Berkeley is founded in 1868 and its mascot is Oski the Bear, who debuted in 1941.\")\n",
    "\n",
    "k1.compute()\n",
    "k6.compute(\"Computed after k1 compute.\")"
   ]
  },
  {
   "cell_type": "code",
   "execution_count": 4,
   "metadata": {},
   "outputs": [
    {
     "name": "stdout",
     "output_type": "stream",
     "text": [
      "[sum] UC Berkeley was founded in 1868. Its mascot, Oski the Bear, debuted in 1941. The university ha\n",
      "s an enrollment of more than 45,000 students. [kbb_516361f4-74c3-46bd-a165-601088d88281] [kbn_04c7ad\n",
      "d5-a27a-4cd3-bc7d-ed31e93fd7a3] [2024-09-30 02:23:03] [2024-09-30 02:23:13] \n",
      "     ↑__ [edit] UC Berkeley is founded in 1868 and its mascot is Oski the Bear, who debuted in 1941.\n",
      "          [kbb_71add81a-4340-4070-8692-a05e51c87a20] [kbn_17a3345d-e8a7-4228-ad89-c88a991cf488] [202\n",
      "         4-09-30 02:23:02] [2024-09-30 02:23:03] \n",
      "     ↑__ [create] Berkeley has an enrollment of more than 45000 students. [kbb_ba74fea8-b280-46dd-85\n",
      "         24-15b8ac2dc183] [kbn_61934b79-e361-45ff-8c93-3593a67f622f] [2024-09-30 02:23:00] [2024-09-\n",
      "         30 02:23:05] \n",
      "     ↑__ [create] UC Berkeley is founded in 2222. [kbb_6229343d-f936-40e9-99ce-958331321cf0] [kbn_e6\n",
      "         647a1f-6b7a-437f-93b5-4e43756d344e] [2024-09-30 02:23:00] [2024-09-30 02:23:02] \n"
     ]
    }
   ],
   "source": [
    "# k6 comes later than k1, in case of conflicts, the newer information has priority.\n",
    "k10 = k1 + k3 + k6\n",
    "k10.compute(msg=\"Bla bla bla.\")\n",
    "k10.show_kbb_history()"
   ]
  },
  {
   "cell_type": "code",
   "execution_count": 5,
   "metadata": {},
   "outputs": [
    {
     "name": "stdout",
     "output_type": "stream",
     "text": [
      "[sum] The University of California, Berkeley (UC Berkeley) is a public land-grant research university located in Berkeley, California. It was founded in 1868 and has an enrollment of more than 45,000 students. The university is organized around fifteen schools of study on the same campus. The official university mascot is Oski the Bear, who debuted in 1941. [kbb_ed087728-d0b8-48bc-9973-4e54ad4f83c0] [kbn_5a2cb26d-3fda-4fd4-a60b-edcdece4b0ea] [2024-09-30 02:23:13] [2024-09-30 02:23:19] \n"
     ]
    }
   ],
   "source": [
    "k11 = sum((k10, k2, k4, k5))\n",
    "k11.compute(msg=\"Sum them all!\")\n",
    "print(k11)"
   ]
  },
  {
   "cell_type": "markdown",
   "metadata": {},
   "source": [
    "## Remove some pieces of memory from the graph"
   ]
  },
  {
   "cell_type": "code",
   "execution_count": 6,
   "metadata": {},
   "outputs": [
    {
     "name": "stdout",
     "output_type": "stream",
     "text": [
      "[sub] The University of California, Berkeley (UC Berkeley) is a public land-grant research university located in Berkeley, California. It has an enrollment of more than 45,000 students. The university is organized around fifteen schools of study on the same campus. [kbb_c2e343ce-2702-4a7f-8742-b2ebf1541710] [kbn_8734ba3b-9f15-43f5-b6ab-6cd464fe8d9d] [2024-09-30 02:23:19] [2024-09-30 02:23:26] \n"
     ]
    }
   ],
   "source": [
    "k12 = k11 - k6\n",
    "# k6 --> \"UC Berkeley is founded in 1868 and its mascot is Oski the Bear, who debuted in 1941.\" \n",
    "k12.compute()\n",
    "print(k12)"
   ]
  },
  {
   "cell_type": "markdown",
   "metadata": {},
   "source": [
    "## Recompute the tree with a node updated"
   ]
  },
  {
   "cell_type": "code",
   "execution_count": 7,
   "metadata": {},
   "outputs": [
    {
     "name": "stdout",
     "output_type": "stream",
     "text": [
      "[edit] UC Berkeley is founded in 1868 and its mascot is Oski the Bear, who debuted in 1941. [kbb_71add81a-4340-4070-8692-a05e51c87a20] [kbn_17a3345d-e8a7-4228-ad89-c88a991cf488] [2024-09-30 02:23:02] [2024-09-30 02:23:03] \n",
      "[create] The official university mascot is Oski the Bear, who debuted in 1941. [kbb_b7b9a55f-0b62-47ed-ab02-32629a2af0bd] [kbn_17a3345d-e8a7-4228-ad89-c88a991cf488] [2024-09-30 02:23:00] [2024-09-30 02:23:01] \n",
      "[edit] Unix was created by alumnus Ken Thompson (BS 1965, MS 1966) along with colleague Dennis Ritchie. [kbb_c47fdff0-8eca-489a-baf1-44918e98c9e0] [kbn_17a3345d-e8a7-4228-ad89-c88a991cf488] [2024-09-30 02:23:26] [2024-09-30 02:23:27] \n"
     ]
    }
   ],
   "source": [
    "k7 = k6.edit_content(\"Unix was created by alumnus Ken Thompson (BS 1965, MS 1966) along with colleague Dennis Ritchie.\") \n",
    "k7.compute()\n",
    "k7.show_node_history()"
   ]
  },
  {
   "cell_type": "code",
   "execution_count": 8,
   "metadata": {},
   "outputs": [
    {
     "name": "stderr",
     "output_type": "stream",
     "text": [
      "2024-09-30 02:23:35,912 - kbgit - llm.py -  WARNING - Possible conflicts in the text: There is a contradiction because the text states UC Berkeley was founded in 2222, yet it mentions Ken Thompson as an alumnus who graduated in 1965 and 1966, which is impossible if the university was founded in the future.\n"
     ]
    },
    {
     "name": "stdout",
     "output_type": "stream",
     "text": [
      "[sum] The University of California, Berkeley (UC Berkeley) is a public land-grant research university located in Berkeley, California. It is organized into fifteen schools of study on the same campus and has an enrollment of over 45,000 students. Unix was created by alumni Ken Thompson (BS 1965, MS 1966) and his colleague Dennis Ritchie. [kbb_c16ed54c-70db-4d94-b3fc-97cc8fb17054] [kbn_5a2cb26d-3fda-4fd4-a60b-edcdece4b0ea] [2024-09-30 02:23:39] [2024-09-30 02:23:50] \n"
     ]
    }
   ],
   "source": [
    "k13 = k11.recompute()\n",
    "print(k13)"
   ]
  },
  {
   "cell_type": "markdown",
   "metadata": {},
   "source": [
    "## What about Documents (collections of KBB)? "
   ]
  },
  {
   "cell_type": "code",
   "execution_count": 9,
   "metadata": {},
   "outputs": [],
   "source": [
    "d1 = KBD(kbbs=[k1, k2])\n",
    "d2 = KBD(kbbs=[k3])"
   ]
  },
  {
   "cell_type": "code",
   "execution_count": 10,
   "metadata": {},
   "outputs": [
    {
     "name": "stdout",
     "output_type": "stream",
     "text": [
      "[kbb_6229343d-f936-40e9-99ce-958331321cf0] UC Berkeley is founded in 2222. \n",
      "[kbb_7760805d-b3df-4b99-b7d9-c12b048bae26] The University of California, Berkeley (UC Berkeley) is a public land-grant research university in Berkeley, California. \n",
      "[kbb_ba74fea8-b280-46dd-8524-15b8ac2dc183] Berkeley has an enrollment of more than 45000 students. \n",
      "\n"
     ]
    }
   ],
   "source": [
    "d3 = d1 + d2\n",
    "print(d3)"
   ]
  },
  {
   "cell_type": "code",
   "execution_count": 11,
   "metadata": {},
   "outputs": [
    {
     "name": "stdout",
     "output_type": "stream",
     "text": [
      "[kbb_6229343d-f936-40e9-99ce-958331321cf0] UC Berkeley is founded in 2222. \n",
      "[kbb_7760805d-b3df-4b99-b7d9-c12b048bae26] The University of California, Berkeley (UC Berkeley) is a public land-grant research university in Berkeley, California. \n",
      "[kbb_ba74fea8-b280-46dd-8524-15b8ac2dc183] Berkeley has an enrollment of more than 45000 students. \n",
      "[kbb_c072fc96-591c-428a-b68a-654f501bcdf9] UC Berkeley is organized around fifteen schools of study on the same campus. \n",
      "\n"
     ]
    }
   ],
   "source": [
    "d3 < k4\n",
    "print(d3)"
   ]
  },
  {
   "cell_type": "code",
   "execution_count": 12,
   "metadata": {},
   "outputs": [
    {
     "name": "stdout",
     "output_type": "stream",
     "text": [
      "[kbb_7760805d-b3df-4b99-b7d9-c12b048bae26] The University of California, Berkeley (UC Berkeley) is a public land-grant research university in Berkeley, California. \n",
      "[kbb_ba74fea8-b280-46dd-8524-15b8ac2dc183] Berkeley has an enrollment of more than 45000 students. \n",
      "[kbb_c072fc96-591c-428a-b68a-654f501bcdf9] UC Berkeley is organized around fifteen schools of study on the same campus. \n",
      "[kbb_6f0d1027-2620-4463-89f9-b8fd474892f4] UC Berkeley is an institution founded in 1868. Its mascot is Oski the Bear, who debuted in 1941. \n",
      "\n"
     ]
    }
   ],
   "source": [
    "d3 << KBB(kbb_content=\"UC Berkeley is founded in 1868 and its mascot is Oski the Bear, who debuted in 1941.\")\n",
    "print(d3)"
   ]
  },
  {
   "cell_type": "code",
   "execution_count": 13,
   "metadata": {},
   "outputs": [
    {
     "data": {
      "text/plain": [
       "[{'operation': 'sum',\n",
       "  'kbbs_snapshot': ['kbb_6229343d-f936-40e9-99ce-958331321cf0',\n",
       "   'kbb_7760805d-b3df-4b99-b7d9-c12b048bae26',\n",
       "   'kbb_ba74fea8-b280-46dd-8524-15b8ac2dc183'],\n",
       "  'tms': 1727688231.0164301,\n",
       "  'parents_kbd': ['kbd_b8157652-4f37-48bc-b439-d73b0be112d6',\n",
       "   'kbd_fa18add4-1b0b-4235-b239-6dcb87630674']},\n",
       " {'operation': 'add',\n",
       "  'kbb': ['kbb_c072fc96-591c-428a-b68a-654f501bcdf9'],\n",
       "  'kbbs_snapshot': ['kbb_6229343d-f936-40e9-99ce-958331321cf0',\n",
       "   'kbb_7760805d-b3df-4b99-b7d9-c12b048bae26',\n",
       "   'kbb_ba74fea8-b280-46dd-8524-15b8ac2dc183',\n",
       "   'kbb_c072fc96-591c-428a-b68a-654f501bcdf9'],\n",
       "  'tms': 1727688231.020071},\n",
       " {'operation': 'smart add',\n",
       "  'kbb': ['kbb_6f0d1027-2620-4463-89f9-b8fd474892f4'],\n",
       "  'kbbs_snapshot': ['kbb_7760805d-b3df-4b99-b7d9-c12b048bae26',\n",
       "   'kbb_ba74fea8-b280-46dd-8524-15b8ac2dc183',\n",
       "   'kbb_c072fc96-591c-428a-b68a-654f501bcdf9',\n",
       "   'kbb_6f0d1027-2620-4463-89f9-b8fd474892f4'],\n",
       "  'tms': 1727688232.1469939}]"
      ]
     },
     "execution_count": 13,
     "metadata": {},
     "output_type": "execute_result"
    }
   ],
   "source": [
    "d3.data[\"operations\"]"
   ]
  },
  {
   "cell_type": "code",
   "execution_count": null,
   "metadata": {},
   "outputs": [],
   "source": []
  }
 ],
 "metadata": {
  "kernelspec": {
   "display_name": "kbgit",
   "language": "python",
   "name": "python3"
  },
  "language_info": {
   "codemirror_mode": {
    "name": "ipython",
    "version": 3
   },
   "file_extension": ".py",
   "mimetype": "text/x-python",
   "name": "python",
   "nbconvert_exporter": "python",
   "pygments_lexer": "ipython3",
   "version": "3.11.9"
  }
 },
 "nbformat": 4,
 "nbformat_minor": 2
}
